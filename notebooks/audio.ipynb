{
 "cells": [
  {
   "cell_type": "code",
   "execution_count": 5,
   "metadata": {},
   "outputs": [],
   "source": [
    "import os, sys\n",
    "import numpy as np\n",
    "# from utils.preprocess_data import \n",
    "\n",
    "data_path = '/Users/ronin/AI/audio-compression-autoencoder/data/microsoft-speech-corpus/processed/gu-in-Train'"
   ]
  },
  {
   "cell_type": "code",
   "execution_count": 6,
   "metadata": {},
   "outputs": [],
   "source": [
    "import os\n",
    "import numpy as np\n",
    "from pathlib import Path\n",
    "\n",
    "def load_spectrograms(data_dir):\n",
    "    spectrograms = []\n",
    "    max_shape = [0, 0]\n",
    "\n",
    "    # First pass: determine the maximum shape\n",
    "    for file_path in Path(data_dir).rglob('*.npy'):\n",
    "        spectrogram = np.load(file_path)\n",
    "        max_shape[0] = max(max_shape[0], spectrogram.shape[0])\n",
    "        max_shape[1] = max(max_shape[1], spectrogram.shape[1])\n",
    "        spectrograms.append(spectrogram)\n",
    "\n",
    "    # Second pass: pad all spectrograms to the maximum shape\n",
    "    padded_spectrograms = []\n",
    "    for spectrogram in spectrograms:\n",
    "        padded_spectrogram = pad_to_shape(spectrogram, max_shape)\n",
    "        padded_spectrograms.append(padded_spectrogram)\n",
    "    \n",
    "    # Convert list to a NumPy array and expand dimensions\n",
    "    padded_spectrograms = np.array(padded_spectrograms)\n",
    "    padded_spectrograms = np.expand_dims(padded_spectrograms, axis=-1)\n",
    "    \n",
    "    return padded_spectrograms\n",
    "\n",
    "def pad_to_shape(spectrogram, target_shape):\n",
    "    padding = [\n",
    "        (0, target_shape[0] - spectrogram.shape[0]),  # Padding for the first dimension\n",
    "        (0, target_shape[1] - spectrogram.shape[1])   # Padding for the second dimension\n",
    "    ]\n",
    "    padded_spectrogram = np.pad(spectrogram, padding, mode='constant')\n",
    "    return padded_spectrogram"
   ]
  },
  {
   "cell_type": "code",
   "execution_count": 10,
   "metadata": {},
   "outputs": [],
   "source": [
    "spect = np.load(f'{data_path}/000010012.npy')"
   ]
  },
  {
   "cell_type": "code",
   "execution_count": 11,
   "metadata": {},
   "outputs": [
    {
     "data": {
      "text/plain": [
       "(128, 162)"
      ]
     },
     "execution_count": 11,
     "metadata": {},
     "output_type": "execute_result"
    }
   ],
   "source": [
    "np.shape(spect)"
   ]
  },
  {
   "cell_type": "code",
   "execution_count": 12,
   "metadata": {},
   "outputs": [],
   "source": [
    "spectograms = load_spectrograms(data_path)"
   ]
  },
  {
   "cell_type": "code",
   "execution_count": 13,
   "metadata": {},
   "outputs": [
    {
     "data": {
      "text/plain": [
       "(22807, 128, 726, 1)"
      ]
     },
     "execution_count": 13,
     "metadata": {},
     "output_type": "execute_result"
    }
   ],
   "source": [
    "np.shape(spectograms)"
   ]
  },
  {
   "cell_type": "code",
   "execution_count": 24,
   "metadata": {},
   "outputs": [
    {
     "data": {
      "text/plain": [
       "(128, 726, 1)"
      ]
     },
     "execution_count": 24,
     "metadata": {},
     "output_type": "execute_result"
    }
   ],
   "source": [
    "np.shape(spectograms[0])"
   ]
  }
 ],
 "metadata": {
  "kernelspec": {
   "display_name": "Python 3",
   "language": "python",
   "name": "python3"
  },
  "language_info": {
   "codemirror_mode": {
    "name": "ipython",
    "version": 3
   },
   "file_extension": ".py",
   "mimetype": "text/x-python",
   "name": "python",
   "nbconvert_exporter": "python",
   "pygments_lexer": "ipython3",
   "version": "3.10.6"
  }
 },
 "nbformat": 4,
 "nbformat_minor": 2
}
